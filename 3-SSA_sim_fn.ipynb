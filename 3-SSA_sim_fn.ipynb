{
 "cells": [
  {
   "cell_type": "markdown",
   "metadata": {},
   "source": [
    "# (3) SSA including time-dependent protein production rate"
   ]
  },
  {
   "cell_type": "markdown",
   "metadata": {},
   "source": [
    "The model that we are attempting to infer the parameter for is:\n",
    "$$\\varnothing \\xrightarrow{a_1(t)}m\\, P\\xrightarrow{d}\\varnothing,$$\n",
    "where $a_1(t) = \\alpha_0 V(t)^{\\alpha_1}$ and $m$ is a random number drawn from a geometric distribution with time-dependent mean burst size $b(t) = \\beta_0 V(t)^{\\beta_1}$. The volume of the system grows according to exponential growth law: $V(t) = V_0 e^{\\theta t}$. Later on in this sheet we also go onto assess the minimum threshold for the SMC-ABC data. "
   ]
  },
  {
   "cell_type": "markdown",
   "metadata": {},
   "source": [
    "Here we set up the SSA to be used for the parameter inference in the SMC ABC computations. The arguments are in order:\n",
    "- 1. `S_time` The number of simulation trajectories to be performed.\n",
    "- 2. `inf_params` The model parameters to be inferred chosen by the user/simulator function (time in units min$^{-1}$): $\\{\\alpha_0, \\alpha_1, \\beta_0, \\beta_1, d\\}$.\n",
    "- 3. `spec_params` The model parameters specified by the experimental data: $\\{V_0, n_0, \\theta\\}$.\n",
    "- 4. `max_time` The time through which to run the simulation."
   ]
  },
  {
   "cell_type": "markdown",
   "metadata": {},
   "source": [
    "Other parameters include: $M$ = # reactions, $N$ = # species."
   ]
  },
  {
   "cell_type": "code",
   "execution_count": 1,
   "metadata": {},
   "outputs": [
    {
     "data": {
      "text/plain": [
       "SSA (generic function with 1 method)"
      ]
     },
     "execution_count": 1,
     "metadata": {},
     "output_type": "execute_result"
    }
   ],
   "source": [
    "#include(\"./SSA_file.jl\"); using .SSAmod;\n",
    "\n",
    "function SSA(S_time::Int64, inf_params::Array{Float64,1}, spec_params::Array{Float64,1}, max_time::Int64)\n",
    "    M = 2; N = 1; \n",
    "    α0 = inf_params[1]; α1 = inf_params[2]; β0 = inf_params[3]; β1 = inf_params[4]; d = inf_params[5]; \n",
    "    V0 = spec_params[1]; n0 = spec_params[2]; θ = spec_params[3];\n",
    "    \n",
    "    # Define stoichiometric matrix\n",
    "    S_mat = zeros(M);\n",
    "    S_mat[1] = +1; # the burst size is randomly chosen later.\n",
    "    S_mat[2] = -1;\n",
    "    \n",
    "    sp = 1.0; # sampling period is same as experimental data.\n",
    "    n = zeros(S_time,Int64(floor(max_time/sp))); # reaction state vector\n",
    "    c = zeros(S_time,Int64(floor(max_time/sp))); # conc vector\n",
    "    v = ones(S_time,Int64(floor(max_time/sp))); # volume vector\n",
    "    \n",
    "    \"\"\"\n",
    "    * This first loop is for if we decide to average over more than one lineage - sim = 1 by default.\n",
    "    * It also defines some constants that will be needed for the sim.\n",
    "    \"\"\"\n",
    "    for sim in 1:S_time\n",
    "        n_temp = n0; # set the current state vec to appropriate molecule number at homeostasis.\n",
    "        T = 0.0 ::Float64; # set the overall time\n",
    "\n",
    "        # while loop choosing to stop the simulation once the maximum time is reached.\n",
    "        while T <= max_time\n",
    "            # incorporate the time dependent rate explicitly.\n",
    "\n",
    "            # Step 1: Calculate tau chosen rection for time dep rate.\n",
    "            r1,r2 = rand(1,2);\n",
    "            a1 = α0*(V0*exp(θ*T))^α1; a2 = d*n_temp;\n",
    "            if isinf(lambertw((a1/a2)*(r1^(-α1*θ/a2))*exp(a1/a2))) # (**) if value is infinite go again.\n",
    "                # print(a1/a2, \"\\n\", r1^(-α1/a2), \"\\n\", exp(a1/a2),\"\\n\")\n",
    "                tau = 0.0; # set to zero by default if get error.\n",
    "            elseif a2 > 0 # distinguish between a2=0 and a2>0 cases separately.\n",
    "                # print(\"hi\")\n",
    "                tau = (1/(α1*θ*a2))*(a1+α1*θ*log(1/r1)-a2*lambertw((a1/a2)*(r1^(-α1*θ/a2))*exp(a1/a2)));\n",
    "            else\n",
    "                tau = (1/(α1*θ))*log(1+(α1*θ/a1)*log(1/r1));\n",
    "            end\n",
    "            tau_props = [(a1/(α1*θ))*(exp(α1*θ*tau)-1),tau*a2]; sum_props = sum(tau_props);\n",
    "            next_r = findfirst(x -> x>=r2*sum_props,cumsum(tau_props));\n",
    "\n",
    "            # Step 1.5: choose a burst size from geometric with mean b(t).\n",
    "            b = β0*(V0*exp(θ*T))^β1;\n",
    "            bs = rand(Geometric((1/b)/((1/b)+1))); # rand burst size.\n",
    "            # print(b,\"\\t\",bs,\"\\n\")\n",
    "\n",
    "            # Step 2: Update the system\n",
    "            T += tau;\n",
    "            if isnan((T-tau)/sp) # catch the numerical error from (**)\n",
    "                print(\"error!\", \"\\n\", r1, \"\\n\", α1/a2, \"\\n\", r1^(-α1/a2), \"\\n\", exp(a1/a2), \"\\n\", exp(a1/a2), \"\\n\", (a1/a2)*(r1^(-α1/a2))*exp(a1/a2), \"\\n\",\"boom\")\n",
    "            end\n",
    "            # Update the trajectory vector\n",
    "            if T < max_time # checks that T hasen't exceeded cell-cycle time or total time.\n",
    "                for t in Int(ceil((T-tau)/sp)) : Int(floor(T/sp))\n",
    "                    n[sim,t+1] = n_temp;\n",
    "                    c[sim,t+1] = n_temp/(V0*exp(θ*t)); # the (t*sp)-(T-tc) updates is the volume for that time indexed by t.\n",
    "                    v[sim,t+1] = V0*exp(θ*t);\n",
    "                end\n",
    "                # Fire reaction next_r\n",
    "                if next_r == 1\n",
    "                    prod = bs*S_mat[next_r];\n",
    "                elseif next_r == 2\n",
    "                    prod = S_mat[next_r];\n",
    "                else\n",
    "                    println(\"error!\")\n",
    "                end\n",
    "                n_temp = n_temp + prod;\n",
    "            else # else the cell cycle time alone has been exceeded and do this\n",
    "                for t in Int(ceil((T-tau)/sp)) : Int(floor(max_time/sp)-1)\n",
    "                    n[sim,t+1] = n_temp;\n",
    "                    c[sim,t+1] = n_temp/(V0*exp(θ*t));\n",
    "                    v[sim,t+1] = V0*exp(θ*t);\n",
    "                end\n",
    "            end\n",
    "        end\n",
    "        #if mod(sim,100) == 0 # for multiple sims keep output after every 100.\n",
    "        #    println(sim)\n",
    "        end\n",
    "    return n,c,v\n",
    "end"
   ]
  },
  {
   "cell_type": "markdown",
   "metadata": {},
   "source": [
    "This function has been saved as a module in a separate file so that we can import it to later bits of code for the SMC-ABC. Now, let's use this function for a sample set of parameters. First import the required functions."
   ]
  },
  {
   "cell_type": "code",
   "execution_count": 2,
   "metadata": {},
   "outputs": [],
   "source": [
    "using Distributions, LambertW;"
   ]
  },
  {
   "cell_type": "markdown",
   "metadata": {},
   "source": [
    "Choose some values for the parameters and a reasonable number of time points."
   ]
  },
  {
   "cell_type": "code",
   "execution_count": 9,
   "metadata": {},
   "outputs": [
    {
     "data": {
      "text/plain": [
       "([1.0 4.0 … 174.0 192.0], [0.3333333333333333 1.2939273780646774 … 25.039210358886628 26.812899151848896], [3.0 3.091363601860551 … 6.949100930343274 7.160732560572829])"
      ]
     },
     "execution_count": 9,
     "metadata": {},
     "output_type": "execute_result"
    }
   ],
   "source": [
    "# test code - Q: does sim fn work in here?\n",
    "ssa = SSA(1, [3.083412069398955, 0.22670334072224252, 1.7273980241963505, 0.17574691423678512, 0.04813094645052603],[3.0,1.0,0.03], 30)"
   ]
  },
  {
   "cell_type": "markdown",
   "metadata": {},
   "source": [
    "Let's plot the molecule number, concentrations and volume output from this SSA function."
   ]
  },
  {
   "cell_type": "code",
   "execution_count": 4,
   "metadata": {},
   "outputs": [],
   "source": [
    "using PyPlot;"
   ]
  },
  {
   "cell_type": "code",
   "execution_count": 11,
   "metadata": {},
   "outputs": [
    {
     "data": {
      "image/png": "[encoded data removed]",
      "text/plain": [
       "Figure(PyObject <Figure size 640x480 with 3 Axes>)"
      ]
     },
     "metadata": {},
     "output_type": "display_data"
    }
   ],
   "source": [
    "fig, axs = PyPlot.subplots(3, 1, sharex = true, tight_layout = true);\n",
    "axs[3].set_xlabel(L\"t\"); axs[1].set_ylabel(L\"n(t)\"); axs[2].set_ylabel(L\"c(t)\"); axs[3].set_ylabel(L\"V(t)\");\n",
    "axs[1].plot(range(0,length(ssa[1][:])-1,step=1),ssa[1][:]); axs[2].plot(range(0,length(ssa[2][:])-1,step=1),ssa[2][:]); axs[3].plot(range(0,length(ssa[3][:])-1,step=1),ssa[3][:]);"
   ]
  },
  {
   "cell_type": "code",
   "execution_count": 52,
   "metadata": {},
   "outputs": [
    {
     "data": {
      "text/plain": [
       "1"
      ]
     },
     "execution_count": 52,
     "metadata": {},
     "output_type": "execute_result"
    }
   ],
   "source": [
    "trunc(Int,1.008947894785785789745030)"
   ]
  },
  {
   "cell_type": "code",
   "execution_count": 2,
   "metadata": {},
   "outputs": [
    {
     "data": {
      "text/plain": [
       "1-element Array{Float64,1}:\n",
       " 0.9169081367585965"
      ]
     },
     "execution_count": 2,
     "metadata": {},
     "output_type": "execute_result"
    }
   ],
   "source": [
    "rand(1)"
   ]
  }
 ],
 "metadata": {
  "kernelspec": {
   "display_name": "Julia 1.5.2",
   "language": "julia",
   "name": "julia-1.5"
  },
  "language_info": {
   "file_extension": ".jl",
   "mimetype": "application/julia",
   "name": "julia",
   "version": "1.5.2"
  }
 },
 "nbformat": 4,
 "nbformat_minor": 2
}
